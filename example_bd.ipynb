{
 "cells": [
  {
   "cell_type": "code",
   "execution_count": 35,
   "id": "0d4f8043",
   "metadata": {
    "cellId": "ivbntwgdam29ly1aavxy8"
   },
   "outputs": [],
   "source": [
    "%pip install psycopg2-binary\n",
    "import pandas as pd"
   ]
  },
  {
   "cell_type": "code",
   "execution_count": 38,
   "id": "1d1b69f2",
   "metadata": {
    "cellId": "1mu4v36n7twxdw7cnhd0nk"
   },
   "outputs": [
    {
     "name": "stdout",
     "output_type": "stream",
     "text": [
      "<class 'pandas.core.frame.DataFrame'>\n",
      "RangeIndex: 1066482 entries, 0 to 1066481\n",
      "Data columns (total 30 columns):\n",
      "Unnamed: 0           1066482 non-null int64\n",
      "Наличие_в_папке_1    1066482 non-null bool\n",
      "Наличие_в_папке_2    1066482 non-null bool\n",
      "Наличие_в_папке_3    1066482 non-null bool\n",
      "Наличие_в_папке_4    1066482 non-null bool\n",
      "ОКВЭД                1044448 non-null float64\n",
      "Отчетный_год         1066482 non-null int64\n",
      "Квартал              1066482 non-null int64\n",
      "ФИД                  1066482 non-null int64\n",
      "КПП_КОДНО            1066482 non-null int64\n",
      "ind_61               1066482 non-null float64\n",
      "ind_62               1066482 non-null float64\n",
      "ind_31               1066482 non-null int64\n",
      "ind_300              1066482 non-null int64\n",
      "ind_301              1066482 non-null int64\n",
      "ind_302              1066482 non-null int64\n",
      "ind_303              1066482 non-null float64\n",
      "ind_304              1066482 non-null int64\n",
      "ind_305              1066482 non-null float64\n",
      "ind_306              1066482 non-null float64\n",
      "ind_307              1066482 non-null float64\n",
      "ind_308              1066482 non-null float64\n",
      "ind_309              1066482 non-null float64\n",
      "ind_310              1066482 non-null int64\n",
      "ind_311              1066482 non-null int64\n",
      "ind_312              1066482 non-null int64\n",
      "ind_313              1066482 non-null float64\n",
      "ind_314              1066482 non-null float64\n",
      "ind_315              1066482 non-null float64\n",
      "ind_316              1066482 non-null float64\n",
      "dtypes: bool(4), float64(13), int64(13)\n",
      "memory usage: 215.6 MB\n"
     ]
    }
   ],
   "source": [
    "new_df_fns = pd.read_csv(\"new_df_fns.csv\")\n",
    "new_df_fns.rename(columns = {'Наличие в папке 1': 'Наличие_в_папке_1', 'Наличие в папке 2': 'Наличие_в_папке_2', \n",
    "              'Наличие в папке 3': 'Наличие_в_папке_3', 'Наличие в папке 4': 'Наличие_в_папке_4',\n",
    "              'Отчетный год': 'Отчетный_год', 'КПП/КОДНО': 'КПП_КОДНО'}, inplace=True)\n",
    "new_df_fns.info()"
   ]
  },
  {
   "cell_type": "code",
   "execution_count": 81,
   "id": "d4480320",
   "metadata": {
    "cellId": "t8dh1rrj4jh1zri7zbw5l"
   },
   "outputs": [
    {
     "name": "stdout",
     "output_type": "stream",
     "text": [
      "Вы подключены к базе: temp_inid\n"
     ]
    },
    {
     "name": "stderr",
     "output_type": "stream",
     "text": [
      "/kernel/lib/python3.8/site-packages/ml_kernel/kernel.py:872: UserWarning: The following variables cannot be serialized: sample\n",
      "  warnings.warn(message)\n"
     ]
    }
   ],
   "source": [
    "from adding_tables_psycopg import AddingDataPsycopg\n",
    "sample = AddingDataPsycopg()"
   ]
  },
  {
   "cell_type": "code",
   "execution_count": 82,
   "id": "a7428380",
   "metadata": {
    "cellId": "cwcfkxeko4qunrlpehnh8"
   },
   "outputs": [
    {
     "name": "stderr",
     "output_type": "stream",
     "text": [
      "/kernel/lib/python3.8/site-packages/ml_kernel/kernel.py:872: UserWarning: The following variables cannot be serialized: sample\n",
      "  warnings.warn(message)\n"
     ]
    }
   ],
   "source": [
    "#создадим тест таблицу, название таблицы(таблица вымышленная) и схема (схема реальная)\n",
    "sample.create_table('test', 'public')"
   ]
  },
  {
   "cell_type": "code",
   "execution_count": 83,
   "id": "3094d400",
   "metadata": {
    "cellId": "j1shs0ecqffsbz3mg0ujtp"
   },
   "outputs": [
    {
     "name": "stderr",
     "output_type": "stream",
     "text": [
      "/kernel/lib/python3.8/site-packages/ml_kernel/kernel.py:872: UserWarning: The following variables cannot be serialized: sample\n",
      "  warnings.warn(message)\n"
     ]
    }
   ],
   "source": [
    "#записываем дф в бд, атрибуты в дф должны строго иметь такие же имена как\n",
    "#в словарике all_tables_names.yml. их может быть меньше, чем в словарике, но не больше\n",
    "sample.write_to_sql(new_df_fns, 'test', 'public')"
   ]
  },
  {
   "cell_type": "code",
   "execution_count": 84,
   "id": "21f662f8",
   "metadata": {
    "cellId": "m5c8kkxrxyaopmn9am3yn"
   },
   "outputs": [
    {
     "name": "stderr",
     "output_type": "stream",
     "text": [
      "/kernel/lib/python3.8/site-packages/ml_kernel/kernel.py:872: UserWarning: The following variables cannot be serialized: sample\n",
      "  warnings.warn(message)\n"
     ]
    }
   ],
   "source": [
    "#переименуем тест таблицу\n",
    "sample.rename_table('test', 'test_new', 'public')"
   ]
  },
  {
   "cell_type": "code",
   "execution_count": 85,
   "id": "66ff3ec9",
   "metadata": {
    "cellId": "317ia60hpkiv2ujh7vbdw"
   },
   "outputs": [
    {
     "name": "stderr",
     "output_type": "stream",
     "text": [
      "/kernel/lib/python3.8/site-packages/ml_kernel/kernel.py:872: UserWarning: The following variables cannot be serialized: sample\n",
      "  warnings.warn(message)\n"
     ]
    }
   ],
   "source": [
    "#удалим тест таблицу\n",
    "sample.delete_table('test_new', 'public')"
   ]
  },
  {
   "cell_type": "code",
   "execution_count": 86,
   "id": "a7492a5c",
   "metadata": {
    "cellId": "tu0766hopqsj25ruces"
   },
   "outputs": [
    {
     "name": "stdout",
     "output_type": "stream",
     "text": [
      "<class 'pandas.core.frame.DataFrame'>\n",
      "RangeIndex: 1066482 entries, 0 to 1066481\n",
      "Data columns (total 29 columns):\n",
      "Наличие_в_папке_1    1066482 non-null object\n",
      "Наличие_в_папке_2    1066482 non-null object\n",
      "Наличие_в_папке_3    1066482 non-null object\n",
      "Наличие_в_папке_4    1066482 non-null object\n",
      "ОКВЭД                1044448 non-null float64\n",
      "Отчетный_год         1066482 non-null int64\n",
      "Квартал              1066482 non-null int64\n",
      "ФИД                  1066482 non-null int64\n",
      "КПП_КОДНО            1066482 non-null int64\n",
      "ind_61               1066482 non-null float64\n",
      "ind_62               1066482 non-null float64\n",
      "ind_31               1066482 non-null int64\n",
      "ind_300              1066482 non-null int64\n",
      "ind_301              1066482 non-null int64\n",
      "ind_302              1066482 non-null int64\n",
      "ind_303              1066482 non-null float64\n",
      "ind_304              1066482 non-null int64\n",
      "ind_305              1066482 non-null float64\n",
      "ind_306              1066482 non-null float64\n",
      "ind_307              1066482 non-null float64\n",
      "ind_308              1066482 non-null float64\n",
      "ind_309              1066482 non-null float64\n",
      "ind_310              1066482 non-null int64\n",
      "ind_311              1066482 non-null int64\n",
      "ind_312              1066482 non-null int64\n",
      "ind_313              1066482 non-null float64\n",
      "ind_314              1066482 non-null float64\n",
      "ind_315              1066482 non-null float64\n",
      "ind_316              1066482 non-null float64\n",
      "dtypes: float64(13), int64(12), object(4)\n",
      "memory usage: 236.0+ MB\n"
     ]
    },
    {
     "name": "stderr",
     "output_type": "stream",
     "text": [
      "/kernel/lib/python3.8/site-packages/ml_kernel/kernel.py:872: UserWarning: The following variables cannot be serialized: sample\n",
      "  warnings.warn(message)\n"
     ]
    }
   ],
   "source": [
    "#выгрузим таблицу: нужные столбцы (один \"ОКВЭД\", несколько \"Квартал, ФИД, ind_61\" или все \"*\"\n",
    "df_get_test = sample.get_table_as_df('*', 'fns', 'public')\n",
    "df_get_test.info()"
   ]
  },
  {
   "cell_type": "code",
   "execution_count": 87,
   "id": "a621526a",
   "metadata": {
    "cellId": "g2fxyrchu7j9hz2tx8uqw"
   },
   "outputs": [
    {
     "name": "stdout",
     "output_type": "stream",
     "text": [
      "<class 'pandas.core.frame.DataFrame'>\n",
      "RangeIndex: 427167 entries, 0 to 427166\n",
      "Data columns (total 29 columns):\n",
      "Наличие_в_папке_1    427167 non-null object\n",
      "Наличие_в_папке_2    427167 non-null object\n",
      "Наличие_в_папке_3    427167 non-null object\n",
      "Наличие_в_папке_4    427167 non-null object\n",
      "ОКВЭД                427167 non-null float64\n",
      "Отчетный_год         427167 non-null int64\n",
      "Квартал              427167 non-null int64\n",
      "ФИД                  427167 non-null int64\n",
      "КПП_КОДНО            427167 non-null int64\n",
      "ind_61               427167 non-null int64\n",
      "ind_62               427167 non-null float64\n",
      "ind_31               427167 non-null int64\n",
      "ind_300              427167 non-null int64\n",
      "ind_301              427167 non-null int64\n",
      "ind_302              427167 non-null int64\n",
      "ind_303              427167 non-null float64\n",
      "ind_304              427167 non-null int64\n",
      "ind_305              427167 non-null float64\n",
      "ind_306              427167 non-null float64\n",
      "ind_307              427167 non-null float64\n",
      "ind_308              427167 non-null float64\n",
      "ind_309              427167 non-null float64\n",
      "ind_310              427167 non-null int64\n",
      "ind_311              427167 non-null int64\n",
      "ind_312              427167 non-null int64\n",
      "ind_313              427167 non-null float64\n",
      "ind_314              427167 non-null float64\n",
      "ind_315              427167 non-null int64\n",
      "ind_316              427167 non-null float64\n",
      "dtypes: float64(11), int64(14), object(4)\n",
      "memory usage: 94.5+ MB\n"
     ]
    },
    {
     "name": "stderr",
     "output_type": "stream",
     "text": [
      "/kernel/lib/python3.8/site-packages/ml_kernel/kernel.py:872: UserWarning: The following variables cannot be serialized: sample\n",
      "  warnings.warn(message)\n"
     ]
    }
   ],
   "source": [
    "#выгрузим таблицу: по запросу из словарика all_tables_names.yml\n",
    "df_get_test = sample.get_table_as_df_join('fns', 'get_df_join')\n",
    "df_get_test.info()"
   ]
  },
  {
   "cell_type": "code",
   "execution_count": null,
   "id": "92213d1f",
   "metadata": {
    "cellId": "bj0eyo02j98my7broy6tps"
   },
   "outputs": [],
   "source": []
  }
 ],
 "metadata": {
  "kernelspec": {
   "display_name": "Yandex DataSphere Kernel",
   "language": "python",
   "name": "python3"
  },
  "language_info": {
   "codemirror_mode": {
    "name": "ipython",
    "version": 3
   },
   "file_extension": ".py",
   "mimetype": "text/x-python",
   "name": "python",
   "nbconvert_exporter": "python",
   "pygments_lexer": "ipython3",
   "version": "3.7.7"
  },
  "notebookId": "f73647cf-4d33-4d8d-a698-db735f9de636",
  "notebookPath": "voshod_bd.ipynb"
 },
 "nbformat": 4,
 "nbformat_minor": 5
}
