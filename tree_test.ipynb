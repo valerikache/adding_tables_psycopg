{
 "cells": [
  {
   "cell_type": "markdown",
   "id": "911f77c8",
   "metadata": {},
   "source": [
    "Задание по Python\n",
    "\n",
    "Написать функцию, строящую дерево по списку пар id (id родителя, id потомка),\n",
    "где None - id корневого узла."
   ]
  },
  {
   "cell_type": "code",
   "execution_count": 247,
   "id": "001863bb",
   "metadata": {},
   "outputs": [],
   "source": [
    "def to_tree(source):\n",
    "    parents = []\n",
    "    expected = {i: dict() for record in source for i in record if i}\n",
    "    for parent, child in source:\n",
    "        if parent is None:\n",
    "            parents.append(child)\n",
    "        else:\n",
    "            expected[parent].update({child: {}})\n",
    "    \n",
    "    expected = result_tree(expected, parents)\n",
    "    return expected\n",
    "\n",
    "def result_tree(dict_, roots):\n",
    "    result = {}\n",
    "    for root in roots:\n",
    "        result[root] = result_tree(dict_, dict_[root])\n",
    "    return result"
   ]
  },
  {
   "cell_type": "code",
   "execution_count": 248,
   "id": "605e3009",
   "metadata": {},
   "outputs": [],
   "source": [
    "source = [\n",
    "    (None, 'a'),\n",
    "    (None, 'b'),\n",
    "    (None, 'c'),\n",
    "    ('a', 'a1'),\n",
    "    ('a', 'a2'),\n",
    "    ('a2', 'a21'),\n",
    "    ('a2', 'a22'),\n",
    "    ('b', 'b1'),\n",
    "    ('b1', 'b11'),\n",
    "    ('b11', 'b111'),\n",
    "    ('b', 'b2'),\n",
    "    ('c', 'c1'),\n",
    "]"
   ]
  },
  {
   "cell_type": "code",
   "execution_count": 249,
   "id": "ade601bb",
   "metadata": {},
   "outputs": [
    {
     "data": {
      "text/plain": [
       "{'a': {'a1': {}, 'a2': {'a21': {}, 'a22': {}}},\n",
       " 'b': {'b1': {'b11': {'b111': {}}}, 'b2': {}},\n",
       " 'c': {'c1': {}}}"
      ]
     },
     "execution_count": 249,
     "metadata": {},
     "output_type": "execute_result"
    }
   ],
   "source": [
    "expected = to_tree(source)\n",
    "expected"
   ]
  }
 ],
 "metadata": {
  "kernelspec": {
   "display_name": "Python 3 (ipykernel)",
   "language": "python",
   "name": "python3"
  },
  "language_info": {
   "codemirror_mode": {
    "name": "ipython",
    "version": 3
   },
   "file_extension": ".py",
   "mimetype": "text/x-python",
   "name": "python",
   "nbconvert_exporter": "python",
   "pygments_lexer": "ipython3",
   "version": "3.9.7"
  }
 },
 "nbformat": 4,
 "nbformat_minor": 5
}
